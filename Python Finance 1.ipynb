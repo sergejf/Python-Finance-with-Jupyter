{
 "cells": [
  {
   "cell_type": "markdown",
   "metadata": {},
   "source": [
    "Templates\n",
    "---------"
   ]
  },
  {
   "cell_type": "code",
   "execution_count": null,
   "metadata": {},
   "outputs": [],
   "source": [
    "# Template portfolio data: past operations/transactions. Replace with actual data.\n",
    "\n",
    "Ops =      {# Original portfolio transactions\n",
    "            1: ['SPY', 100.0, 10.00, '', 'BUY', '2018-03-30', 'USD', '', '', 1.0] \n",
    "           }\n",
    "\n",
    "# Template portfolio data: allocation targets\n",
    "Pf =        { 'SPY': [100.0, 0.0, 0.0, 0.0] \n",
    "            }"
   ]
  },
  {
   "cell_type": "code",
   "execution_count": null,
   "metadata": {},
   "outputs": [],
   "source": [
    "# Template usernames and API keys. Replace with actual username and API keys.\n",
    "tiingo_api_key = \"1234\"\n",
    "plotly_api_key = \"1234\"\n",
    "plotly_username = 'johndoe'"
   ]
  },
  {
   "cell_type": "markdown",
   "metadata": {},
   "source": [
    "Calculations\n",
    "-----------"
   ]
  },
  {
   "cell_type": "code",
   "execution_count": null,
   "metadata": {},
   "outputs": [],
   "source": [
    "# Import non-charting libraries\n",
    "import pandas as pd\n",
    "import numpy as np\n",
    "from datetime import datetime\n",
    "import pandas_datareader as pdr\n",
    "from pandas_datareader.tiingo import TiingoDailyReader # pandas_datareader for Tiingo data feed\n",
    "import tulipy as ty # Tulipy for calculating technical indicators like Williams %R\n",
    "from copy import deepcopy"
   ]
  },
  {
   "cell_type": "code",
   "execution_count": null,
   "metadata": {},
   "outputs": [],
   "source": [
    "# Constants\n",
    "cols = ['open', 'high', 'low', 'close']\n",
    "\n",
    "Buy = 'BUY'\n",
    "Sell = 'SELL'\n",
    "\n",
    "OpTicker = 0\n",
    "OpQuantity = 1\n",
    "OpCost = 2\n",
    "OpBroker = 3\n",
    "OpType = 4\n",
    "OpDate = 5\n",
    "OpCurrency = 6\n",
    "OpRealTicker = 7\n",
    "OpRealCurrency = 8\n",
    "OpRealFactor = 9\n",
    "\n",
    "PfTarget = 0\n",
    "PfQuantity = 1\n",
    "PfCostBasis = 2\n",
    "PfCost = 3"
   ]
  },
  {
   "cell_type": "code",
   "execution_count": null,
   "metadata": {},
   "outputs": [],
   "source": [
    "# Update portfolio with all past operations\n",
    "for op in Ops.keys():\n",
    "    if Ops[op][OpType] == Buy:\n",
    "        Pf[Ops[op][OpTicker]][PfQuantity] = Pf[Ops[op][OpTicker]][PfQuantity] + Ops[op][OpQuantity]\n",
    "        Pf[Ops[op][OpTicker]][PfCostBasis] = Pf[Ops[op][OpTicker]][PfCostBasis] + Ops[op][OpQuantity]*Ops[op][OpCost]\n",
    "    elif Ops[op][OpType] == Sell:\n",
    "        Pf[Ops[op][OpTicker]][PfQuantity] = Pf[Ops[op][OpTicker]][PfQuantity] - Ops[op][OpQuantity]\n",
    "        Pf[Ops[op][OpTicker]][PfCostBasis] = Pf[Ops[op][OpTicker]][PfCostBasis] - Ops[op][OpQuantity]*Ops[op][OpCost]        \n",
    "for tick in Pf.keys():\n",
    "    if Pf[tick][PfQuantity] > 0.0:\n",
    "        Pf[tick][PfCost] = Pf[tick][PfCostBasis]/Pf[tick][PfQuantity]\n",
    "    else:\n",
    "        Pf[tick][PfCost] = 0.0        \n",
    "#Pf"
   ]
  },
  {
   "cell_type": "code",
   "execution_count": null,
   "metadata": {
    "scrolled": false
   },
   "outputs": [],
   "source": [
    "timespan = 1 # Last 1 year back from today is the default timespan\n",
    "end = datetime.today()\n",
    "start = datetime(end.year - timespan, end.month, end.day)\n",
    "\n",
    "# Read ticker data from Tiingo and create OHLC and close series\n",
    "ohlc = []\n",
    "close = []\n",
    "for tick in Pf.keys():\n",
    "    data = TiingoDailyReader(tick, start, end, api_key=tiingo_api_key).read()\n",
    "    ohlc.append(data.loc[tick][cols])\n",
    "    close.append(data.loc[tick]['close'])\n",
    "    \n",
    "# Create OHLC and Close DataFrames\n",
    "portfolioOHLC = pd.concat(ohlc, axis=1, keys=Pf.keys())\n",
    "portfolioClose = pd.concat(close, axis=1, keys=Pf.keys())\n",
    "\n",
    "#portfolioOHLC.tail(5)\n",
    "#portfolioClose.head(5)"
   ]
  },
  {
   "cell_type": "code",
   "execution_count": null,
   "metadata": {},
   "outputs": [],
   "source": [
    "# Williams %R period set to 14 days\n",
    "willrPeriod = 14\n",
    "portfolioWillr = {}\n",
    "\n",
    "for tick in Pf.keys():\n",
    "    willr14 = ty.willr(portfolioOHLC[tick]['high'].values, \n",
    "                       portfolioOHLC[tick]['low'].values, \n",
    "                       portfolioOHLC[tick]['close'].values, \n",
    "                       willrPeriod)\n",
    "    portfolioWillr[tick] = np.pad(willr14, (willrPeriod-1,0), 'constant', constant_values=np.nan)\n",
    "\n",
    "#print(portfolioWillr)"
   ]
  },
  {
   "cell_type": "code",
   "execution_count": null,
   "metadata": {},
   "outputs": [],
   "source": [
    "#portfolioClose[list(Pf.keys())[0]].describe()"
   ]
  },
  {
   "cell_type": "code",
   "execution_count": null,
   "metadata": {},
   "outputs": [],
   "source": [
    "# Compute the main portfolio metrics\n",
    "\n",
    "metricNames = ['MaxReturnPct', 'MinReturnPct', 'Max', 'Mean', \n",
    "               'Min', 'Price', 'PriceChange', 'MarketValue', 'Cost Basis',\n",
    "               'P&L', 'Percentage', 'DayChange', 'WillR'\n",
    "              ]\n",
    "metrics = []\n",
    "for tick in Pf.keys():\n",
    "    returns = portfolioClose[tick].pct_change()*100.0\n",
    "    metrics.append(pd.DataFrame({tick: \n",
    "                                 [returns.max(),\n",
    "                                  returns.min(),\n",
    "                                  portfolioClose[tick].max(axis=0), \n",
    "                                  portfolioClose[tick].mean(axis=0), \n",
    "                                  portfolioClose[tick].min(axis=0), \n",
    "                                  portfolioClose[tick][-1],\n",
    "                                  portfolioClose[tick][-1]-portfolioClose[tick][-2],\n",
    "                                  portfolioClose[tick][-1]*Pf[tick][PfQuantity],\n",
    "                                  Pf[tick][PfCostBasis],\n",
    "                                  (portfolioClose[tick][-1]*Pf[tick][PfQuantity])-Pf[tick][PfCostBasis],\n",
    "                                  0,\n",
    "                                  (portfolioClose[tick][-1]-portfolioClose[tick][-2])*Pf[tick][PfQuantity],\n",
    "                                  portfolioWillr[tick][-1]\n",
    "                                 ]},  \n",
    "                                index=metricNames))\n",
    "\n",
    "portfolioMetrics = pd.concat(metrics, axis=1)\n",
    "#portfolioMetrics"
   ]
  },
  {
   "cell_type": "code",
   "execution_count": null,
   "metadata": {},
   "outputs": [],
   "source": [
    "# Compute portfolio market value and actual percentage for each ticker\n",
    "\n",
    "portfolioValue = 0\n",
    "percentages = []\n",
    "for tick in Pf.keys():\n",
    "    portfolioValue = portfolioValue + portfolioMetrics.loc['MarketValue'][tick]\n",
    "for tick in Pf.keys():\n",
    "    portfolioMetrics.loc['Percentage'][tick] = (portfolioMetrics.loc['MarketValue'][tick]/portfolioValue*100)     \n",
    "   \n",
    "portfolioMetrics"
   ]
  },
  {
   "cell_type": "code",
   "execution_count": null,
   "metadata": {},
   "outputs": [],
   "source": [
    "# Actual vs. target percentages for each ticker in the portfolio\n",
    "pct = []\n",
    "for tick in Pf.keys():\n",
    "    pct.append([portfolioMetrics.loc['Percentage'][tick], Pf[tick][PfTarget]])\n",
    "\n",
    "alloc = pd.DataFrame(pct, index=Pf.keys(), columns=['Pct Actual', 'Pct Target'])\n",
    "alloc"
   ]
  },
  {
   "cell_type": "code",
   "execution_count": null,
   "metadata": {
    "scrolled": false
   },
   "outputs": [],
   "source": [
    "# Oversold tickers as candidates for rebalancing, i.e. purchasing the quantities with *negative* totals\n",
    "oversold = -50 # Williams %R oversold\n",
    "candidates = []\n",
    "keys = []\n",
    "for tick in Pf.keys():\n",
    "        if portfolioMetrics.loc['WillR'][tick] <= oversold:\n",
    "            candidates.append([portfolioMetrics.loc['WillR'][tick], \n",
    "                               alloc.loc[tick]['Pct Actual'],\n",
    "                               alloc.loc[tick]['Pct Target'],\n",
    "                               alloc.loc[tick]['Pct Actual']-alloc.loc[tick]['Pct Target'],\n",
    "                               portfolioValue*(alloc.loc[tick]['Pct Actual']-alloc.loc[tick]['Pct Target'])/100,\n",
    "                               round((portfolioValue*(alloc.loc[tick]['Pct Actual']-alloc.loc[tick]['Pct Target'])/100)/portfolioClose[tick][-1]),\n",
    "                               portfolioClose[tick][-1],\n",
    "                               portfolioMetrics.loc['P&L'][tick],\n",
    "                               ((portfolioClose[tick][-1] / portfolioMetrics.loc['Min'][tick])-1)*100,\n",
    "                               (1-(portfolioClose[tick][-1] / portfolioMetrics.loc['Max'][tick]))*100\n",
    "                             ])\n",
    "            keys.append(tick)\n",
    "\n",
    "rebalanceBuy = pd.DataFrame(candidates, index=keys, columns=['WillR', 'Pct Actual', 'Pct Target', \n",
    "                                                             'Pct Diff', 'Money Diff', 'Quantity', \n",
    "                                                             'Price', 'P&L', 'Pct > Min', 'Pct < Max'\n",
    "                                                            ])\n",
    "rebalanceBuy = rebalanceBuy.sort_values(by=['Quantity'])\n",
    "rebalanceBuy"
   ]
  },
  {
   "cell_type": "code",
   "execution_count": null,
   "metadata": {},
   "outputs": [],
   "source": [
    "# Overbought tickers as candidates for rebalancing, i.e. selling the quantities with negative totals\n",
    "candidates = []\n",
    "keys = []\n",
    "for tick in Pf.keys():\n",
    "        if portfolioMetrics.loc['WillR'][tick] > oversold:\n",
    "            candidates.append([portfolioMetrics.loc['WillR'][tick], \n",
    "                               alloc.loc[tick]['Pct Actual'],\n",
    "                               alloc.loc[tick]['Pct Target'],\n",
    "                               alloc.loc[tick]['Pct Actual']-alloc.loc[tick]['Pct Target'],\n",
    "                               portfolioValue*(alloc.loc[tick]['Pct Actual']-alloc.loc[tick]['Pct Target'])/100,\n",
    "                               round((portfolioValue*(alloc.loc[tick]['Pct Actual']-alloc.loc[tick]['Pct Target'])/100)/portfolioClose[tick][-1]),\n",
    "                               portfolioClose[tick][-1],\n",
    "                               portfolioMetrics.loc['P&L'][tick],\n",
    "                               ((portfolioClose[tick][-1] / portfolioMetrics.loc['Min'][tick])-1)*100,\n",
    "                               (1-(portfolioClose[tick][-1] / portfolioMetrics.loc['Max'][tick]))*100\n",
    "                             ])\n",
    "            keys.append(tick)\n",
    "\n",
    "rebalanceSell = pd.DataFrame(candidates, index=keys, columns=['WillR', 'Pct Actual', 'Pct Target', \n",
    "                                                              'Pct Diff', 'Money Diff', 'Quantity', \n",
    "                                                              'Price', 'P&L', 'Pct > Min', 'Pct < Max'\n",
    "                                                             ])\n",
    "rebalanceSell = rebalanceSell.sort_values(by=['Quantity'], ascending=False)\n",
    "rebalanceSell"
   ]
  },
  {
   "cell_type": "code",
   "execution_count": null,
   "metadata": {},
   "outputs": [],
   "source": [
    "# Template, replace with your actual operations/transactions\n",
    "newOps =    {# New portfolio transactions /!\\ APPLY REAL FACTOR TO CONVERT FROM US TO FOREIGN QUANTITIES /!\\\n",
    "            2: ['SPY', 10.0, portfolioClose['SPY'][-1], '', 'SELL', '2018-04-02', 'USD', '', '', 1.0]\n",
    "            }"
   ]
  },
  {
   "cell_type": "code",
   "execution_count": null,
   "metadata": {},
   "outputs": [],
   "source": [
    "# Portfolio sensitivity analysis (assuming no brand new portfolio ticker is bought)\n",
    "\n",
    "newPf = deepcopy(Pf)\n",
    "\n",
    "# Update portfolio with all past operations\n",
    "for op in newOps.keys():\n",
    "    if newOps[op][OpType] == Buy:\n",
    "        newPf[newOps[op][OpTicker]][PfQuantity] = newPf[newOps[op][OpTicker]][PfQuantity] + newOps[op][OpQuantity]\n",
    "        newPf[newOps[op][OpTicker]][PfCostBasis] = newPf[newOps[op][OpTicker]][PfCostBasis] + newOps[op][OpQuantity]*newOps[op][OpCost]\n",
    "    elif newOps[op][OpType] == Sell:\n",
    "        newPf[newOps[op][OpTicker]][PfQuantity] = newPf[newOps[op][OpTicker]][PfQuantity] - newOps[op][OpQuantity]\n",
    "        newPf[newOps[op][OpTicker]][PfCostBasis] = newPf[newOps[op][OpTicker]][PfCostBasis] - newOps[op][OpQuantity]*newOps[op][OpCost]    \n",
    "for tick in newPf.keys():\n",
    "    if newPf[tick][PfQuantity] > 0.0:\n",
    "        newPf[tick][PfCost] = newPf[tick][PfCostBasis] / newPf[tick][PfQuantity]\n",
    "    else:\n",
    "        newPf[tick][PfCost] = 0.0\n",
    "    newPf[tick].append(portfolioClose[tick][-1] * newPf[tick][PfQuantity])\n",
    "    newPf[tick].append(0.0) # Pct Actual\n",
    "    newPf[tick].append(0.0) # Pct Diff\n",
    "    \n",
    "\n",
    "# Format portfolio as DataFrame for better readability\n",
    "newAlloc = pd.DataFrame.from_dict(newPf, orient='index')\n",
    "newAlloc.columns = ['Pct Target', 'Quantity', 'Cost Basis', 'Cost', 'Market Value', 'Pct Actual', 'Pct Diff']\n",
    "\n",
    "# Recalculate portfolio percentages\n",
    "newPfValue = newAlloc['Market Value'].sum()\n",
    "for tick in newPf.keys():\n",
    "    newAlloc.loc[tick]['Pct Actual'] = newAlloc.loc[tick]['Market Value'] / newPfValue * 100;\n",
    "    newAlloc.loc[tick]['Pct Diff'] = newAlloc.loc[tick]['Pct Actual'] - newAlloc.loc[tick]['Pct Target'];\n",
    "\n",
    "# Sort by percentage differences\n",
    "newAlloc = newAlloc.sort_values(by=['Pct Diff'])\n",
    "newAlloc\n",
    "#newPfValue"
   ]
  },
  {
   "cell_type": "code",
   "execution_count": null,
   "metadata": {},
   "outputs": [],
   "source": [
    "# Calculate returns (daily percent change) for each ticker\n",
    "returns = portfolioClose.pct_change()*100\n",
    "#returns.head(5)"
   ]
  },
  {
   "cell_type": "code",
   "execution_count": null,
   "metadata": {
    "scrolled": true
   },
   "outputs": [],
   "source": [
    "# Calculate Williams %R table with all tickers\n",
    "qfTicker = list(Pf.keys())[0]\n",
    "willrClose = pd.DataFrame(portfolioClose[qfTicker]) # FIXME: ugly hack to insert first column (ticker price) with date index\n",
    "\n",
    "i = 0\n",
    "for tick in Pf.keys():\n",
    "    willrClose.insert(i, tick + \" WILLR\", portfolioWillr[tick], allow_duplicates=False)\n",
    "    i += 1\n",
    "willrClose = willrClose.drop(columns=[qfTicker], axis=1) # FIXME: ugly hack to get rid of first column (ticker price)\n",
    "#willrClose.tail(10)"
   ]
  },
  {
   "cell_type": "code",
   "execution_count": null,
   "metadata": {},
   "outputs": [],
   "source": [
    "# Calculate aggregate portfolio historical performance\n",
    "hist = []\n",
    "for tick in Pf.keys():\n",
    "    hist.append(portfolioClose[tick]*Pf[tick][PfQuantity])\n",
    "    \n",
    "histClose = pd.DataFrame(hist).sum(axis=0)\n",
    "histClose.tail(1)"
   ]
  },
  {
   "cell_type": "code",
   "execution_count": null,
   "metadata": {},
   "outputs": [],
   "source": [
    "# Read benchmark ticker data from Tiingo and create close series\n",
    "benchmark = 'SPY'\n",
    "close = []\n",
    "data = TiingoDailyReader(benchmark, start, end, api_key=tiingo_api_key).read()\n",
    "close.append(data.loc[benchmark]['close'])\n",
    "benchmarkClose = pd.concat(close, axis=1, keys=[benchmark])\n",
    "#benchmarkClose.describe()"
   ]
  },
  {
   "cell_type": "code",
   "execution_count": null,
   "metadata": {},
   "outputs": [],
   "source": [
    "# Uncomment to work only on data and avoid over-using Plot.ly \n",
    "# thisoperationwillfail()"
   ]
  },
  {
   "cell_type": "markdown",
   "metadata": {},
   "source": [
    "Charts\n",
    "------"
   ]
  },
  {
   "cell_type": "code",
   "execution_count": null,
   "metadata": {},
   "outputs": [],
   "source": [
    "# Import charting libraries\n",
    "import plotly\n",
    "import plotly.graph_objs as go\n",
    "import plotly.figure_factory as ff\n",
    "import plotly.plotly as py\n",
    "from plotly import tools\n",
    "import cufflinks as cf\n",
    "\n",
    "# Set up Plot.ly - requires free account with username and API key\n",
    "plotly.tools.set_credentials_file(username=plotly_username, api_key=plotly_api_key)\n",
    "cf.set_config_file(world_readable=True)"
   ]
  },
  {
   "cell_type": "code",
   "execution_count": null,
   "metadata": {},
   "outputs": [],
   "source": [
    "# Grouped bar chart of ticker market value percentage of portfolio, actual vs. target\n",
    "alloc.iplot(kind='bar', title=\"Portfolio Percentages\", filename='PortfolioPercentages')"
   ]
  },
  {
   "cell_type": "code",
   "execution_count": null,
   "metadata": {},
   "outputs": [],
   "source": [
    "# All closing prices on the same chart with log y axis\n",
    "layout = go.Layout(\n",
    "    autosize=True,\n",
    "    yaxis=dict(type='log', title='Close', showticklabels=False),\n",
    ")\n",
    "\n",
    "data = []\n",
    "for tick in Pf.keys():\n",
    "    data.append(go.Scatter(x = portfolioClose.index, y = portfolioClose[tick].values, name=tick))\n",
    "\n",
    "fig = go.Figure(data=data, layout=layout)\n",
    "py.iplot(fig, filename='PortfolioClosingPrice', title=\"Portfolio Closing Price\")"
   ]
  },
  {
   "cell_type": "code",
   "execution_count": null,
   "metadata": {},
   "outputs": [],
   "source": [
    "# Multi-raph closing prices for portfolio tickers\n",
    "# FIXME: log y axis for subplots - how?\n",
    "layout = go.Layout(autosize=True,\n",
    "    yaxis=dict(\n",
    "        autorange=True\n",
    "    ),\n",
    ")\n",
    "portfolioClose.iplot(layout=layout, filename='PortfolioClosingPrice', theme='pearl', shape=(1, len(Pf)), subplots = True, subplot_titles=True, shared_xaxes=True, fill=True, title=\"Portfolio Closing Price\")"
   ]
  },
  {
   "cell_type": "code",
   "execution_count": null,
   "metadata": {},
   "outputs": [],
   "source": [
    "# Technical analysis charts for one specific ticker - replace with actual ticker name, e.g. 'SPY'\n",
    "qfTicker = 'SPY'\n",
    "\n",
    "qf=cf.QuantFig(portfolioOHLC[qfTicker][cols],title='Technical Analysis',legend='top',name=qfTicker)\n",
    "qf.add_ema([50,200],width=2,color=['green','lightgreen'],legendgroup=True)\n",
    "qf.add_rsi(periods=14,color='java')\n",
    "qf.add_bollinger_bands(periods=21,boll_std=2,colors=['magenta','grey'],fill=True)\n",
    "#qf.add_volume() # Volume not stored in table\n",
    "qf.add_macd()\n",
    "qf.iplot(rangeslider=True, up_color='green',down_color='red',filename='PortfolioTechnicalAnalysis')"
   ]
  },
  {
   "cell_type": "code",
   "execution_count": null,
   "metadata": {},
   "outputs": [],
   "source": [
    "# Distribution of returns box chart\n",
    "returns.iplot(kind='box', title = \"Portfolio Returns Distribution\", filename='PortfolioReturnsDistribution')"
   ]
  },
  {
   "cell_type": "code",
   "execution_count": null,
   "metadata": {},
   "outputs": [],
   "source": [
    "# Distribution of returns curve and rug (same information as the box chart)\n",
    "py.iplot(ff.create_distplot([returns[c].dropna() for c in returns.columns], returns.columns, bin_size=.05, show_hist=False), filename='PortfolioReturnsDistributionCurve')"
   ]
  },
  {
   "cell_type": "code",
   "execution_count": null,
   "metadata": {},
   "outputs": [],
   "source": [
    "# Heatmap of correlations between portfolio tickers based on returns\n",
    "returns.corr().iplot(kind = 'heatmap', title = \"Portfolio Correlations\", colorscale = 'YlGnBu', filename='PortfolioReturnsCorrelations')"
   ]
  },
  {
   "cell_type": "code",
   "execution_count": null,
   "metadata": {},
   "outputs": [],
   "source": [
    "# Chart portfolio components relative returns\n",
    "relativeReturns = portfolioClose.apply(lambda x: ((x / x[0])-1)*100)\n",
    "relativeReturns.iplot(rangeslider=True, title = \"Portfolio Relative Returns\", filename='PortfolioRelativeReturns')"
   ]
  },
  {
   "cell_type": "code",
   "execution_count": null,
   "metadata": {},
   "outputs": [],
   "source": [
    "# Dashboard of Williams %R graphs for all tickers\n",
    "layout = go.Layout(autosize=True,\n",
    "    width=1000,\n",
    "    height=1000,\n",
    ")\n",
    "willrClose.iplot(layout=layout, subplots=True, shape=(len(Pf)+1,1), vertical_spacing=.02,fill=True, title = \"Portfolio Williams %R\", filename='WillRClose')"
   ]
  },
  {
   "cell_type": "code",
   "execution_count": null,
   "metadata": {},
   "outputs": [],
   "source": [
    "# Chart of portfolio historical performance with log axis\n",
    "layout = go.Layout(autosize=True,\n",
    "    yaxis=dict(\n",
    "        type='log',\n",
    "        autorange=True\n",
    "    ),\n",
    ")\n",
    "histClose.iplot(layout=layout, filename='HistoryClosingPrice', theme='pearl', fill=True, title=\"Historical Portfolio Closing Price\")"
   ]
  },
  {
   "cell_type": "code",
   "execution_count": null,
   "metadata": {},
   "outputs": [],
   "source": [
    "# Chart portfolio relative returns\n",
    "benchmarkReturns = benchmarkClose.apply(lambda x: ((x / x[0])-1)*100)\n",
    "portfolioAggClose = pd.DataFrame(histClose, columns=['Close'])\n",
    "portfolioAggReturns = portfolioAggClose.apply(lambda x: ((x / x[0])-1)*100)\n",
    "benchmarkReturns = pd.concat([benchmarkReturns, portfolioAggReturns], axis=1, keys=['Benchmark', 'Portfolio'])\n",
    "benchmarkReturns.iplot(rangeslider=True, title = \"Portfolio Benchmark Returns\", filename='PortfolioBenchmarkReturns')"
   ]
  }
 ],
 "metadata": {
  "kernelspec": {
   "display_name": "Python 3",
   "language": "python",
   "name": "python3"
  },
  "language_info": {
   "codemirror_mode": {
    "name": "ipython",
    "version": 3
   },
   "file_extension": ".py",
   "mimetype": "text/x-python",
   "name": "python",
   "nbconvert_exporter": "python",
   "pygments_lexer": "ipython3",
   "version": "3.6.4"
  }
 },
 "nbformat": 4,
 "nbformat_minor": 2
}
